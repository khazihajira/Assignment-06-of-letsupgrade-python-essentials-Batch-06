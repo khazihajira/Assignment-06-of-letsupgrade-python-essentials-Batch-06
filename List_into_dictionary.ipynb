{
  "nbformat": 4,
  "nbformat_minor": 0,
  "metadata": {
    "colab": {
      "name": "List into dictionary.ipynb",
      "provenance": [],
      "collapsed_sections": [],
      "authorship_tag": "ABX9TyO5QBvVG+hlSFTWmzBRX+GN",
      "include_colab_link": true
    },
    "kernelspec": {
      "name": "python3",
      "display_name": "Python 3"
    }
  },
  "cells": [
    {
      "cell_type": "markdown",
      "metadata": {
        "id": "view-in-github",
        "colab_type": "text"
      },
      "source": [
        "<a href=\"https://colab.research.google.com/github/khazihajira/Assignment-06-of-letsupgrade-python-essentials-Batch-06/blob/master/List_into_dictionary.ipynb\" target=\"_parent\"><img src=\"https://colab.research.google.com/assets/colab-badge.svg\" alt=\"Open In Colab\"/></a>"
      ]
    },
    {
      "cell_type": "markdown",
      "metadata": {
        "id": "0-Fpe5ndvxmz",
        "colab_type": "text"
      },
      "source": [
        "#Program to convert list into dictionary (list comprehensive)"
      ]
    },
    {
      "cell_type": "code",
      "metadata": {
        "id": "NyDhpRcMyF6q",
        "colab_type": "code",
        "colab": {
          "base_uri": "https://localhost:8080/",
          "height": 105
        },
        "outputId": "511f6838-bbb9-4f0d-8b84-210ccdc5bae5"
      },
      "source": [
        " \n",
        " \n",
        "# conversion of lists to dictionary \n",
        " \n",
        "print (\"conversion of lists to dictionary\")\n",
        "# initializing lists \n",
        " \n",
        "test_keys = [\"a\", \"b\", \"c\",\"d\",\"e\"] \n",
        " \n",
        "test_values = [1,2,3,4,5,6,7,8] \n",
        " \n",
        "  \n",
        "# Printing original keys-value lists \n",
        " \n",
        "print (\"Original key list is : \" + str(test_keys)) \n",
        " \n",
        "print (\"Original value list is : \" + str(test_values)) \n",
        " \n",
        "  \n",
        "# using naive method \n",
        "# to convert lists to dictionary \n",
        " \n",
        "res = {} \n",
        " \n",
        "for key in test_keys: \n",
        " \n",
        "    for value in test_values: \n",
        " \n",
        "        res[key] = value \n",
        " \n",
        "        test_values.remove(value) \n",
        " \n",
        "        break  \n",
        " \n",
        "  \n",
        "# Printing resultant dictionary  \n",
        " \n",
        "print (\"Resultant dictionary is : \" +  str(res))"
      ],
      "execution_count": 7,
      "outputs": [
        {
          "output_type": "stream",
          "text": [
            "conversion of lists to dictionary\n",
            "Original key list is : ['a', 'b', 'c', 'd', 'e']\n",
            "Original value list is : [1, 2, 3, 4, 5, 6, 7, 8]\n",
            "Resultant dictionary is : {'a': 1, 'b': 2, 'c': 3, 'd': 4, 'e': 5}\n"
          ],
          "name": "stdout"
        }
      ]
    },
    {
      "cell_type": "code",
      "metadata": {
        "id": "ZgMTGjUdwGGR",
        "colab_type": "code",
        "colab": {
          "base_uri": "https://localhost:8080/",
          "height": 34
        },
        "outputId": "b08b4e1f-3d7f-4e69-d98e-8024d47d7410"
      },
      "source": [
        " \n",
        "def Convert(list): \n",
        " \n",
        "    res_dct = {list[i]: list[i + 1] for i in range(0, len(list), 2)} \n",
        " \n",
        "    return res_dct \n",
        " \n",
        " \n",
        "list = ['a', 1, 'b', 2, 'c', 3] \n",
        " \n",
        "print(Convert(list))"
      ],
      "execution_count": 3,
      "outputs": [
        {
          "output_type": "stream",
          "text": [
            "{'a': 1, 'b': 2, 'c': 3}\n"
          ],
          "name": "stdout"
        }
      ]
    }
  ]
}