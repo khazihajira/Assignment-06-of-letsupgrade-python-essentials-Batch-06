{
  "nbformat": 4,
  "nbformat_minor": 0,
  "metadata": {
    "colab": {
      "name": "List to dict.ipynb",
      "provenance": [],
      "authorship_tag": "ABX9TyN6h35hK0R6F3MLvMjbu/An",
      "include_colab_link": true
    },
    "kernelspec": {
      "name": "python3",
      "display_name": "Python 3"
    }
  },
  "cells": [
    {
      "cell_type": "markdown",
      "metadata": {
        "id": "view-in-github",
        "colab_type": "text"
      },
      "source": [
        "<a href=\"https://colab.research.google.com/github/khazihajira/Assignment-06-of-letsupgrade-python-essentials-Batch-06/blob/master/List_to_dict.ipynb\" target=\"_parent\"><img src=\"https://colab.research.google.com/assets/colab-badge.svg\" alt=\"Open In Colab\"/></a>"
      ]
    },
    {
      "cell_type": "markdown",
      "metadata": {
        "id": "B760uPZHz_m6",
        "colab_type": "text"
      },
      "source": [
        "#Converting list to dictionary"
      ]
    },
    {
      "cell_type": "code",
      "metadata": {
        "id": "9Rz9fjIozvJO",
        "colab_type": "code",
        "colab": {
          "base_uri": "https://localhost:8080/",
          "height": 105
        },
        "outputId": "4cfba4ee-c031-4ca5-dd2d-3b923ffdb2ed"
      },
      "source": [
        " \n",
        "print(\"Python Program To Convert A Given List into Dictionary\")\n",
        " \n",
        "list1 = [1,2,3,4,5,6,7,8]\n",
        " \n",
        "list2 = [\"a\" , \"b\" , \"c\" , \"d\" , \"e\"]\n",
        " \n",
        "list_Dictionary = {}\n",
        " \n",
        "for lists in list1:\n",
        "    for listing in list2:\n",
        "        list_Dictionary[lists] = listing\n",
        "        list2.remove(listing)\n",
        "        break\n",
        " \n",
        "print(\"\\nCombined List:\\n\",list_Dictionary)"
      ],
      "execution_count": 2,
      "outputs": [
        {
          "output_type": "stream",
          "text": [
            "Python Program To Convert A Given List into Dictionary\n",
            "\n",
            "Combined List:\n",
            " {1: 'a', 2: 'b', 3: 'c', 4: 'd', 5: 'e'}\n"
          ],
          "name": "stdout"
        }
      ]
    }
  ]
}